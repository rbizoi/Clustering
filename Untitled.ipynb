{
 "cells": [
  {
   "cell_type": "code",
   "execution_count": 1,
   "id": "a53db9ff",
   "metadata": {
    "ExecuteTime": {
     "end_time": "2023-06-14T11:36:24.489786Z",
     "start_time": "2023-06-14T11:36:05.086572Z"
    }
   },
   "outputs": [
    {
     "name": "stdout",
     "output_type": "stream",
     "text": [
      "Populating the interactive namespace from numpy and matplotlib\n"
     ]
    }
   ],
   "source": [
    "import numpy as np               # linear algebra\n",
    "import pandas as pd              # data processing, CSV file I/O (e.g. pd.read_csv)\n",
    "import seaborn as sns            #Statistical Data Visualization\n",
    "import warnings\n",
    "%pylab inline\n",
    "\n",
    "import os\n",
    "\n",
    "plt.style.use('seaborn-darkgrid')\n",
    "sns.set(font_scale=2)\n",
    "warnings.filterwarnings(action=\"ignore\")"
   ]
  },
  {
   "cell_type": "code",
   "execution_count": 3,
   "id": "bb87f705",
   "metadata": {
    "ExecuteTime": {
     "end_time": "2023-06-14T11:38:46.964198Z",
     "start_time": "2023-06-14T11:38:46.948578Z"
    }
   },
   "outputs": [],
   "source": [
    "donnees = pd.read_csv('Iris.csv')"
   ]
  }
 ],
 "metadata": {
  "kernelspec": {
   "display_name": "Python 3 (ipykernel)",
   "language": "python",
   "name": "python3"
  },
  "language_info": {
   "codemirror_mode": {
    "name": "ipython",
    "version": 3
   },
   "file_extension": ".py",
   "mimetype": "text/x-python",
   "name": "python",
   "nbconvert_exporter": "python",
   "pygments_lexer": "ipython3",
   "version": "3.9.13"
  },
  "toc": {
   "base_numbering": 1,
   "nav_menu": {},
   "number_sections": true,
   "sideBar": true,
   "skip_h1_title": false,
   "title_cell": "Table of Contents",
   "title_sidebar": "Contents",
   "toc_cell": false,
   "toc_position": {},
   "toc_section_display": true,
   "toc_window_display": false
  }
 },
 "nbformat": 4,
 "nbformat_minor": 5
}
